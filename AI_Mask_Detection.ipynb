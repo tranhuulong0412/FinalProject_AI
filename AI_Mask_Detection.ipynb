{
  "nbformat": 4,
  "nbformat_minor": 0,
  "metadata": {
    "colab": {
      "provenance": [],
      "gpuType": "T4"
    },
    "kernelspec": {
      "name": "python3",
      "display_name": "Python 3"
    },
    "language_info": {
      "name": "python"
    },
    "accelerator": "GPU",
    "gpuClass": "standard"
  },
  "cells": [
    {
      "cell_type": "code",
      "execution_count": 1,
      "metadata": {
        "colab": {
          "base_uri": "https://localhost:8080/"
        },
        "id": "CwyCYIHhJAK5",
        "outputId": "eec57bc5-5092-4684-c279-2de3689e29a0"
      },
      "outputs": [
        {
          "output_type": "stream",
          "name": "stdout",
          "text": [
            "Found 406 images belonging to 2 classes.\n",
            "Found 30 images belonging to 2 classes.\n",
            "Model: \"sequential\"\n",
            "_________________________________________________________________\n",
            " Layer (type)                Output Shape              Param #   \n",
            "=================================================================\n",
            " conv2d (Conv2D)             (None, 150, 150, 32)      896       \n",
            "                                                                 \n",
            " leaky_re_lu (LeakyReLU)     (None, 150, 150, 32)      0         \n",
            "                                                                 \n",
            " max_pooling2d (MaxPooling2D  (None, 75, 75, 32)       0         \n",
            " )                                                               \n",
            "                                                                 \n",
            " conv2d_1 (Conv2D)           (None, 75, 75, 64)        18496     \n",
            "                                                                 \n",
            " leaky_re_lu_1 (LeakyReLU)   (None, 75, 75, 64)        0         \n",
            "                                                                 \n",
            " max_pooling2d_1 (MaxPooling  (None, 37, 37, 64)       0         \n",
            " 2D)                                                             \n",
            "                                                                 \n",
            " conv2d_2 (Conv2D)           (None, 37, 37, 64)        36928     \n",
            "                                                                 \n",
            " leaky_re_lu_2 (LeakyReLU)   (None, 37, 37, 64)        0         \n",
            "                                                                 \n",
            " max_pooling2d_2 (MaxPooling  (None, 18, 18, 64)       0         \n",
            " 2D)                                                             \n",
            "                                                                 \n",
            " flatten (Flatten)           (None, 20736)             0         \n",
            "                                                                 \n",
            " dense (Dense)               (None, 64)                1327168   \n",
            "                                                                 \n",
            " dense_1 (Dense)             (None, 2)                 130       \n",
            "                                                                 \n",
            "=================================================================\n",
            "Total params: 1,383,618\n",
            "Trainable params: 1,383,618\n",
            "Non-trainable params: 0\n",
            "_________________________________________________________________\n",
            "Epoch 1/35\n",
            " 3/13 [=====>........................] - ETA: 10s - loss: 4.2850 - accuracy: 0.5233 "
          ]
        },
        {
          "output_type": "stream",
          "name": "stderr",
          "text": [
            "/usr/local/lib/python3.9/dist-packages/PIL/Image.py:975: UserWarning: Palette images with Transparency expressed in bytes should be converted to RGBA images\n",
            "  warnings.warn(\n"
          ]
        },
        {
          "output_type": "stream",
          "name": "stdout",
          "text": [
            "13/13 [==============================] - 46s 3s/step - loss: 1.3009 - accuracy: 0.7069 - val_loss: 0.3765 - val_accuracy: 0.8667\n",
            "Epoch 2/35\n",
            "13/13 [==============================] - 9s 672ms/step - loss: 0.2976 - accuracy: 0.8744 - val_loss: 0.1980 - val_accuracy: 1.0000\n",
            "Epoch 3/35\n",
            "13/13 [==============================] - 10s 767ms/step - loss: 0.2304 - accuracy: 0.9187 - val_loss: 0.1615 - val_accuracy: 0.9667\n",
            "Epoch 4/35\n",
            "13/13 [==============================] - 10s 777ms/step - loss: 0.2075 - accuracy: 0.9113 - val_loss: 0.1297 - val_accuracy: 0.9667\n",
            "Epoch 5/35\n",
            "13/13 [==============================] - 9s 713ms/step - loss: 0.2131 - accuracy: 0.9286 - val_loss: 0.1423 - val_accuracy: 0.9333\n",
            "Epoch 6/35\n",
            "13/13 [==============================] - 9s 724ms/step - loss: 0.1476 - accuracy: 0.9507 - val_loss: 0.1797 - val_accuracy: 0.9000\n",
            "Epoch 7/35\n",
            "13/13 [==============================] - 10s 792ms/step - loss: 0.1075 - accuracy: 0.9655 - val_loss: 0.1019 - val_accuracy: 0.9333\n",
            "Epoch 8/35\n",
            "13/13 [==============================] - 10s 782ms/step - loss: 0.1019 - accuracy: 0.9631 - val_loss: 0.0970 - val_accuracy: 0.9333\n",
            "Epoch 9/35\n",
            "13/13 [==============================] - 9s 740ms/step - loss: 0.0842 - accuracy: 0.9680 - val_loss: 0.1403 - val_accuracy: 0.9333\n",
            "Epoch 10/35\n",
            "13/13 [==============================] - 10s 763ms/step - loss: 0.1119 - accuracy: 0.9631 - val_loss: 0.1484 - val_accuracy: 0.9333\n",
            "Epoch 11/35\n",
            "13/13 [==============================] - 10s 790ms/step - loss: 0.1305 - accuracy: 0.9433 - val_loss: 0.2401 - val_accuracy: 0.8667\n",
            "Epoch 12/35\n",
            "13/13 [==============================] - 10s 742ms/step - loss: 0.0967 - accuracy: 0.9680 - val_loss: 0.1206 - val_accuracy: 0.9333\n",
            "Epoch 13/35\n",
            "13/13 [==============================] - 9s 684ms/step - loss: 0.0551 - accuracy: 0.9828 - val_loss: 0.2015 - val_accuracy: 0.9333\n",
            "Epoch 14/35\n",
            "13/13 [==============================] - 10s 771ms/step - loss: 0.0721 - accuracy: 0.9803 - val_loss: 0.1491 - val_accuracy: 0.9667\n",
            "Epoch 15/35\n",
            "13/13 [==============================] - 10s 782ms/step - loss: 0.0543 - accuracy: 0.9852 - val_loss: 0.1204 - val_accuracy: 0.9667\n",
            "Epoch 16/35\n",
            "13/13 [==============================] - 9s 708ms/step - loss: 0.0341 - accuracy: 0.9901 - val_loss: 0.2714 - val_accuracy: 0.8667\n",
            "Epoch 17/35\n",
            "13/13 [==============================] - 9s 710ms/step - loss: 0.0334 - accuracy: 0.9901 - val_loss: 0.1584 - val_accuracy: 0.9000\n",
            "Epoch 18/35\n",
            "13/13 [==============================] - 10s 776ms/step - loss: 0.0501 - accuracy: 0.9828 - val_loss: 0.1683 - val_accuracy: 0.9333\n",
            "Epoch 19/35\n",
            "13/13 [==============================] - 10s 754ms/step - loss: 0.0920 - accuracy: 0.9754 - val_loss: 0.0939 - val_accuracy: 0.9667\n",
            "Epoch 20/35\n",
            "13/13 [==============================] - 9s 677ms/step - loss: 0.0522 - accuracy: 0.9828 - val_loss: 0.1769 - val_accuracy: 0.9333\n",
            "Epoch 21/35\n",
            "13/13 [==============================] - 10s 789ms/step - loss: 0.0364 - accuracy: 0.9852 - val_loss: 0.3560 - val_accuracy: 0.9000\n",
            "Epoch 22/35\n",
            "13/13 [==============================] - 10s 772ms/step - loss: 0.0256 - accuracy: 0.9901 - val_loss: 0.3187 - val_accuracy: 0.8667\n",
            "Epoch 23/35\n",
            "13/13 [==============================] - 9s 683ms/step - loss: 0.0580 - accuracy: 0.9803 - val_loss: 0.3242 - val_accuracy: 0.8667\n",
            "Epoch 24/35\n",
            "13/13 [==============================] - 10s 736ms/step - loss: 0.0504 - accuracy: 0.9828 - val_loss: 0.1897 - val_accuracy: 0.9333\n",
            "Epoch 25/35\n",
            "13/13 [==============================] - 10s 796ms/step - loss: 0.0286 - accuracy: 0.9828 - val_loss: 0.0551 - val_accuracy: 0.9667\n",
            "Epoch 26/35\n",
            "13/13 [==============================] - 10s 740ms/step - loss: 0.0185 - accuracy: 0.9901 - val_loss: 0.0093 - val_accuracy: 1.0000\n",
            "Epoch 27/35\n",
            "13/13 [==============================] - 9s 694ms/step - loss: 0.0176 - accuracy: 0.9926 - val_loss: 0.2209 - val_accuracy: 0.9000\n",
            "Epoch 28/35\n",
            "13/13 [==============================] - 10s 773ms/step - loss: 0.0439 - accuracy: 0.9852 - val_loss: 0.0749 - val_accuracy: 1.0000\n",
            "Epoch 29/35\n",
            "13/13 [==============================] - 10s 766ms/step - loss: 0.0245 - accuracy: 0.9926 - val_loss: 0.2130 - val_accuracy: 0.9667\n",
            "Epoch 30/35\n",
            "13/13 [==============================] - 9s 672ms/step - loss: 0.0124 - accuracy: 0.9951 - val_loss: 0.0585 - val_accuracy: 0.9667\n",
            "Epoch 31/35\n",
            "13/13 [==============================] - 10s 744ms/step - loss: 0.0130 - accuracy: 1.0000 - val_loss: 0.0208 - val_accuracy: 1.0000\n",
            "Epoch 32/35\n",
            "13/13 [==============================] - 10s 762ms/step - loss: 0.0035 - accuracy: 1.0000 - val_loss: 0.0502 - val_accuracy: 0.9667\n",
            "Epoch 33/35\n",
            "13/13 [==============================] - 10s 752ms/step - loss: 0.0078 - accuracy: 0.9975 - val_loss: 0.0396 - val_accuracy: 0.9667\n",
            "Epoch 34/35\n",
            "13/13 [==============================] - 9s 660ms/step - loss: 0.0211 - accuracy: 0.9926 - val_loss: 0.2469 - val_accuracy: 0.9000\n",
            "Epoch 35/35\n",
            "13/13 [==============================] - 10s 790ms/step - loss: 0.0392 - accuracy: 0.9754 - val_loss: 0.1172 - val_accuracy: 0.9333\n",
            "Loss 0.0066290125250816345\n",
            "Accuracy 0.9975369572639465\n"
          ]
        }
      ],
      "source": [
        "#-----------------------------------------------------IMPORT LIBRARIES---------------------------------------------------------------------------------------\n",
        "import tensorflow as tf\n",
        "from tensorflow.keras.preprocessing.image import ImageDataGenerator\n",
        "from tensorflow.keras import layers, models\n",
        "from tensorflow.keras.layers import Dense, Flatten, Conv2D, MaxPooling2D, LeakyReLU\n",
        "from tensorflow.keras.callbacks import EarlyStopping, ModelCheckpoint\n",
        "from matplotlib import pyplot as plt \n",
        "from sklearn import preprocessing\n",
        "from tensorflow.keras.models import Sequential\n",
        "\n",
        "#--------------------------------------------------------DATASETS--------------------------------------------------------------------------------------------\n",
        "train_datagen=ImageDataGenerator(rescale=1./255, shear_range=0.2, zoom_range=0.2, horizontal_flip=True)\n",
        "test_datagen=ImageDataGenerator(rescale=1./255, shear_range=0.2, zoom_range=0.2, horizontal_flip=True)\n",
        "\n",
        "training_set=train_datagen.flow_from_directory('/content/drive/MyDrive/AI_FINAL/Train',target_size=(150,150), batch_size=32, class_mode='categorical')\n",
        "testing_set=test_datagen.flow_from_directory('/content/drive/MyDrive/AI_FINAL/Test',target_size=(150,150), batch_size=32, class_mode='categorical')\n",
        "\n",
        "training_set.class_indices\n",
        "testing_set.class_indices\n",
        "\n",
        "#-------------------------------------------------------CREATE MODEL-----------------------------------------------------------------------------------------\n",
        "model=Sequential()\n",
        "model.add(Conv2D(32,(3,3), activation='relu', kernel_initializer='he_uniform', padding='same',input_shape=(150,150,3))) \n",
        "model.add(LeakyReLU(alpha = 0.1))\n",
        "model.add(MaxPooling2D(2,2))\n",
        "\n",
        "model.add(Conv2D(64,(3,3), activation='relu', kernel_initializer='he_uniform', padding='same')) \n",
        "model.add(LeakyReLU(alpha = 0.1))\n",
        "\n",
        "model.add(MaxPooling2D(2,2))\n",
        "model.add(Conv2D(64,(3,3), activation='relu', kernel_initializer='he_uniform', padding='same'))\n",
        "\n",
        "model.add(LeakyReLU(alpha = 0.1))\n",
        "model.add(MaxPooling2D(2,2))\n",
        "\n",
        "model.add(Flatten())\n",
        "\n",
        "model.add(Dense(64,activation='relu',kernel_initializer='he_uniform'))\n",
        "model.add(Dense(2,activation='softmax'))\n",
        "model.summary()\n",
        "\n",
        "#-------------------------------------------------------COMPILE MODEL-----------------------------------------------------------------------------------------\n",
        "model.compile(optimizer='adam',loss='categorical_crossentropy',metrics=['accuracy'])\n",
        "history=model.fit(training_set,epochs=35,batch_size=128,verbose=1,validation_data=testing_set)\n",
        "\n",
        "#-----------------------------------------------------EVALUATE ACCURACY---------------------------------------------------------------------------------------\n",
        "Score=model.evaluate(training_set,verbose=0)\n",
        "print('Loss', Score[0])\n",
        "print('Accuracy', Score[1])\n",
        "\n",
        "#--------------------------------------------------------SAVE MODEL-------------------------------------------------------------------------------------------\n",
        "model.save(\"/content/drive/MyDrive/AI_FINAL/MaskDetection.h5\")\n"
      ]
    },
    {
      "cell_type": "code",
      "source": [
        "# Vẽ đồ thị giữa số lần học (Epochs) và độ chính xác (Accuracy)\n",
        "plt.plot(history.history['accuracy'])\n",
        "plt.plot(history.history['loss'])\n",
        "plt.title('Model Accuracy')\n",
        "plt.ylabel('Accuracy')\n",
        "plt.xlabel('Epochs')\n",
        "plt.legend(['Train accuracy','Train loss'])\n",
        "plt.show"
      ],
      "metadata": {
        "colab": {
          "base_uri": "https://localhost:8080/",
          "height": 489
        },
        "id": "qyRwYZUZKLON",
        "outputId": "5eb1b2db-3c8c-4f92-a863-2d8ec4a19222"
      },
      "execution_count": 2,
      "outputs": [
        {
          "output_type": "execute_result",
          "data": {
            "text/plain": [
              "<function matplotlib.pyplot.show(close=None, block=None)>"
            ]
          },
          "metadata": {},
          "execution_count": 2
        },
        {
          "output_type": "display_data",
          "data": {
            "text/plain": [
              "<Figure size 640x480 with 1 Axes>"
            ],
            "image/png": "[encoded data removed]"
          },
          "metadata": {}
        }
      ]
    }
  ]
}