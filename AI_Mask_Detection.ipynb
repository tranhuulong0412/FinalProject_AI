{
  "nbformat": 4,
  "nbformat_minor": 0,
  "metadata": {
    "colab": {
      "provenance": [],
      "gpuType": "T4"
    },
    "kernelspec": {
      "name": "python3",
      "display_name": "Python 3"
    },
    "language_info": {
      "name": "python"
    },
    "accelerator": "GPU",
    "gpuClass": "standard"
  },
  "cells": [
    {
      "cell_type": "code",
      "execution_count": 3,
      "metadata": {
        "colab": {
          "base_uri": "https://localhost:8080/"
        },
        "id": "CwyCYIHhJAK5",
        "outputId": "e3c5c213-7c70-4471-cf09-3d7b46dc7ed9"
      },
      "outputs": [
        {
          "output_type": "stream",
          "name": "stdout",
          "text": [
            "Found 406 images belonging to 2 classes.\n",
            "Found 30 images belonging to 2 classes.\n",
            "Model: \"sequential_1\"\n",
            "_________________________________________________________________\n",
            " Layer (type)                Output Shape              Param #   \n",
            "=================================================================\n",
            " conv2d_3 (Conv2D)           (None, 150, 150, 32)      896       \n",
            "                                                                 \n",
            " leaky_re_lu_3 (LeakyReLU)   (None, 150, 150, 32)      0         \n",
            "                                                                 \n",
            " max_pooling2d_3 (MaxPooling  (None, 75, 75, 32)       0         \n",
            " 2D)                                                             \n",
            "                                                                 \n",
            " conv2d_4 (Conv2D)           (None, 75, 75, 64)        18496     \n",
            "                                                                 \n",
            " leaky_re_lu_4 (LeakyReLU)   (None, 75, 75, 64)        0         \n",
            "                                                                 \n",
            " max_pooling2d_4 (MaxPooling  (None, 37, 37, 64)       0         \n",
            " 2D)                                                             \n",
            "                                                                 \n",
            " conv2d_5 (Conv2D)           (None, 37, 37, 64)        36928     \n",
            "                                                                 \n",
            " leaky_re_lu_5 (LeakyReLU)   (None, 37, 37, 64)        0         \n",
            "                                                                 \n",
            " max_pooling2d_5 (MaxPooling  (None, 18, 18, 64)       0         \n",
            " 2D)                                                             \n",
            "                                                                 \n",
            " flatten_1 (Flatten)         (None, 20736)             0         \n",
            "                                                                 \n",
            " dense_2 (Dense)             (None, 64)                1327168   \n",
            "                                                                 \n",
            " dense_3 (Dense)             (None, 2)                 130       \n",
            "                                                                 \n",
            "=================================================================\n",
            "Total params: 1,383,618\n",
            "Trainable params: 1,383,618\n",
            "Non-trainable params: 0\n",
            "_________________________________________________________________\n",
            "Epoch 1/35\n"
          ]
        },
        {
          "output_type": "stream",
          "name": "stderr",
          "text": [
            "/usr/local/lib/python3.9/dist-packages/PIL/Image.py:975: UserWarning: Palette images with Transparency expressed in bytes should be converted to RGBA images\n",
            "  warnings.warn(\n"
          ]
        },
        {
          "output_type": "stream",
          "name": "stdout",
          "text": [
            "13/13 [==============================] - 13s 715ms/step - loss: 2.0738 - accuracy: 0.7241 - val_loss: 0.5843 - val_accuracy: 0.6667\n",
            "Epoch 2/35\n",
            "13/13 [==============================] - 10s 781ms/step - loss: 0.4742 - accuracy: 0.7857 - val_loss: 0.5214 - val_accuracy: 0.6667\n",
            "Epoch 3/35\n",
            "13/13 [==============================] - 9s 667ms/step - loss: 0.3391 - accuracy: 0.8547 - val_loss: 0.2585 - val_accuracy: 0.8667\n",
            "Epoch 4/35\n",
            "13/13 [==============================] - 10s 734ms/step - loss: 0.2731 - accuracy: 0.8867 - val_loss: 0.2267 - val_accuracy: 0.8667\n",
            "Epoch 5/35\n",
            "13/13 [==============================] - 10s 732ms/step - loss: 0.2096 - accuracy: 0.9212 - val_loss: 0.1833 - val_accuracy: 0.9000\n",
            "Epoch 6/35\n",
            "13/13 [==============================] - 10s 779ms/step - loss: 0.1873 - accuracy: 0.9310 - val_loss: 0.1668 - val_accuracy: 0.9333\n",
            "Epoch 7/35\n",
            "13/13 [==============================] - 9s 679ms/step - loss: 0.1509 - accuracy: 0.9483 - val_loss: 0.1438 - val_accuracy: 0.9333\n",
            "Epoch 8/35\n",
            "13/13 [==============================] - 10s 772ms/step - loss: 0.1392 - accuracy: 0.9409 - val_loss: 0.1786 - val_accuracy: 0.9000\n",
            "Epoch 9/35\n",
            "13/13 [==============================] - 10s 776ms/step - loss: 0.1167 - accuracy: 0.9631 - val_loss: 0.1487 - val_accuracy: 0.9333\n",
            "Epoch 10/35\n",
            "13/13 [==============================] - 9s 662ms/step - loss: 0.1906 - accuracy: 0.9212 - val_loss: 0.1728 - val_accuracy: 0.9667\n",
            "Epoch 11/35\n",
            "13/13 [==============================] - 10s 748ms/step - loss: 0.1830 - accuracy: 0.9261 - val_loss: 0.3069 - val_accuracy: 0.9000\n",
            "Epoch 12/35\n",
            "13/13 [==============================] - 10s 783ms/step - loss: 0.1623 - accuracy: 0.9458 - val_loss: 0.1927 - val_accuracy: 0.9000\n",
            "Epoch 13/35\n",
            "13/13 [==============================] - 10s 746ms/step - loss: 0.0982 - accuracy: 0.9704 - val_loss: 0.2377 - val_accuracy: 0.9000\n",
            "Epoch 14/35\n",
            "13/13 [==============================] - 9s 663ms/step - loss: 0.0984 - accuracy: 0.9655 - val_loss: 0.1385 - val_accuracy: 0.9333\n",
            "Epoch 15/35\n",
            "13/13 [==============================] - 10s 752ms/step - loss: 0.0875 - accuracy: 0.9680 - val_loss: 0.3164 - val_accuracy: 0.8667\n",
            "Epoch 16/35\n",
            "13/13 [==============================] - 10s 772ms/step - loss: 0.1129 - accuracy: 0.9581 - val_loss: 0.2975 - val_accuracy: 0.8333\n",
            "Epoch 17/35\n",
            "13/13 [==============================] - 9s 691ms/step - loss: 0.0837 - accuracy: 0.9729 - val_loss: 0.1411 - val_accuracy: 0.9333\n",
            "Epoch 18/35\n",
            "13/13 [==============================] - 10s 751ms/step - loss: 0.1337 - accuracy: 0.9631 - val_loss: 0.1790 - val_accuracy: 0.9333\n",
            "Epoch 19/35\n",
            "13/13 [==============================] - 10s 774ms/step - loss: 0.1307 - accuracy: 0.9532 - val_loss: 0.3109 - val_accuracy: 0.8667\n",
            "Epoch 20/35\n",
            "13/13 [==============================] - 10s 722ms/step - loss: 0.0794 - accuracy: 0.9754 - val_loss: 0.2307 - val_accuracy: 0.9333\n",
            "Epoch 21/35\n",
            "13/13 [==============================] - 9s 693ms/step - loss: 0.0876 - accuracy: 0.9680 - val_loss: 0.2006 - val_accuracy: 0.9333\n",
            "Epoch 22/35\n",
            "13/13 [==============================] - 10s 770ms/step - loss: 0.0596 - accuracy: 0.9852 - val_loss: 0.2263 - val_accuracy: 0.9333\n",
            "Epoch 23/35\n",
            "13/13 [==============================] - 10s 773ms/step - loss: 0.0503 - accuracy: 0.9828 - val_loss: 0.1561 - val_accuracy: 0.9333\n",
            "Epoch 24/35\n",
            "13/13 [==============================] - 9s 692ms/step - loss: 0.0446 - accuracy: 0.9803 - val_loss: 0.3471 - val_accuracy: 0.8667\n",
            "Epoch 25/35\n",
            "13/13 [==============================] - 9s 624ms/step - loss: 0.0364 - accuracy: 0.9852 - val_loss: 0.2332 - val_accuracy: 0.9000\n",
            "Epoch 26/35\n",
            "13/13 [==============================] - 10s 773ms/step - loss: 0.0472 - accuracy: 0.9803 - val_loss: 0.1303 - val_accuracy: 0.9333\n",
            "Epoch 27/35\n",
            "13/13 [==============================] - 10s 780ms/step - loss: 0.0357 - accuracy: 0.9877 - val_loss: 0.1723 - val_accuracy: 0.9333\n",
            "Epoch 28/35\n",
            "13/13 [==============================] - 9s 667ms/step - loss: 0.0393 - accuracy: 0.9926 - val_loss: 0.1813 - val_accuracy: 0.9333\n",
            "Epoch 29/35\n",
            "13/13 [==============================] - 10s 763ms/step - loss: 0.0222 - accuracy: 0.9926 - val_loss: 0.1579 - val_accuracy: 0.9333\n",
            "Epoch 30/35\n",
            "13/13 [==============================] - 10s 777ms/step - loss: 0.0347 - accuracy: 0.9877 - val_loss: 0.1012 - val_accuracy: 0.9333\n",
            "Epoch 31/35\n",
            "13/13 [==============================] - 9s 718ms/step - loss: 0.0579 - accuracy: 0.9803 - val_loss: 0.2727 - val_accuracy: 0.9000\n",
            "Epoch 32/35\n",
            "13/13 [==============================] - 9s 708ms/step - loss: 0.0512 - accuracy: 0.9803 - val_loss: 0.2440 - val_accuracy: 0.9000\n",
            "Epoch 33/35\n",
            "13/13 [==============================] - 10s 777ms/step - loss: 0.0219 - accuracy: 0.9901 - val_loss: 0.1435 - val_accuracy: 0.9333\n",
            "Epoch 34/35\n",
            "13/13 [==============================] - 10s 781ms/step - loss: 0.0215 - accuracy: 0.9926 - val_loss: 0.3334 - val_accuracy: 0.9000\n",
            "Epoch 35/35\n",
            "13/13 [==============================] - 9s 717ms/step - loss: 0.0613 - accuracy: 0.9828 - val_loss: 0.3970 - val_accuracy: 0.8333\n",
            "Loss 0.041858892887830734\n",
            "Accuracy 0.9876847267150879\n"
          ]
        }
      ],
      "source": [
        "#-----------------------------------------------------IMPORT LIBRARIES---------------------------------------------------------------------------------------\n",
        "import tensorflow as tf\n",
        "from tensorflow.keras.preprocessing.image import ImageDataGenerator\n",
        "from tensorflow.keras import layers, models\n",
        "from tensorflow.keras.layers import Dense, Flatten, Conv2D, MaxPooling2D, LeakyReLU\n",
        "from tensorflow.keras.callbacks import EarlyStopping, ModelCheckpoint\n",
        "from matplotlib import pyplot as plt \n",
        "from sklearn import preprocessing\n",
        "from tensorflow.keras.models import Sequential\n",
        "\n",
        "#--------------------------------------------------------DATASETS--------------------------------------------------------------------------------------------\n",
        "train_datagen=ImageDataGenerator(rescale=1./255, shear_range=0.2, zoom_range=0.2, horizontal_flip=True, rotation_range=0.2)\n",
        "test_datagen=ImageDataGenerator(rescale=1./255, shear_range=0.2, zoom_range=0.2, horizontal_flip=True, rotation_range=0.2)\n",
        "\n",
        "training_set=train_datagen.flow_from_directory('/content/drive/MyDrive/AI_FINAL/Train',target_size=(150,150), batch_size=32, class_mode='categorical')\n",
        "testing_set=test_datagen.flow_from_directory('/content/drive/MyDrive/AI_FINAL/Test',target_size=(150,150), batch_size=32, class_mode='categorical')\n",
        "\n",
        "training_set.class_indices\n",
        "testing_set.class_indices\n",
        "\n",
        "#-------------------------------------------------------CREATE MODEL-----------------------------------------------------------------------------------------\n",
        "model=Sequential()\n",
        "model.add(Conv2D(32,(3,3), activation='relu', kernel_initializer='he_uniform', padding='same',input_shape=(150,150,3))) \n",
        "model.add(LeakyReLU(alpha = 0.1))\n",
        "model.add(MaxPooling2D(2,2))\n",
        "\n",
        "model.add(Conv2D(64,(3,3), activation='relu', kernel_initializer='he_uniform', padding='same')) \n",
        "model.add(LeakyReLU(alpha = 0.1))\n",
        "\n",
        "model.add(MaxPooling2D(2,2))\n",
        "model.add(Conv2D(64,(3,3), activation='relu', kernel_initializer='he_uniform', padding='same'))\n",
        "\n",
        "model.add(LeakyReLU(alpha = 0.1))\n",
        "model.add(MaxPooling2D(2,2))\n",
        "\n",
        "model.add(Flatten())\n",
        "\n",
        "model.add(Dense(64,activation='relu',kernel_initializer='he_uniform'))\n",
        "model.add(Dense(2,activation='softmax'))\n",
        "model.summary()\n",
        "\n",
        "#-------------------------------------------------------COMPILE MODEL-----------------------------------------------------------------------------------------\n",
        "model.compile(optimizer='adam',loss='categorical_crossentropy',metrics=['accuracy'])\n",
        "history=model.fit(training_set,epochs=35,batch_size=128,verbose=1,validation_data=testing_set)\n",
        "\n",
        "#-----------------------------------------------------EVALUATE ACCURACY---------------------------------------------------------------------------------------\n",
        "Score=model.evaluate(training_set,verbose=0)\n",
        "print('Loss', Score[0])\n",
        "print('Accuracy', Score[1])\n",
        "\n",
        "#--------------------------------------------------------SAVE MODEL-------------------------------------------------------------------------------------------\n",
        "model.save(\"/content/drive/MyDrive/AI_FINAL/MaskDetection.h5\")\n"
      ]
    },
    {
      "cell_type": "code",
      "source": [
        "# Vẽ đồ thị giữa số lần học (Epochs) và độ chính xác (Accuracy)\n",
        "plt.plot(history.history['accuracy'])\n",
        "plt.plot(history.history['loss'])\n",
        "plt.title('Model Accuracy')\n",
        "plt.ylabel('Accuracy')\n",
        "plt.xlabel('Epochs')\n",
        "plt.legend(['Train accuracy','Train loss'])\n",
        "plt.show"
      ],
      "metadata": {
        "colab": {
          "base_uri": "https://localhost:8080/",
          "height": 489
        },
        "id": "qyRwYZUZKLON",
        "outputId": "f6b010d9-27a7-4c88-df05-b8623bc137db"
      },
      "execution_count": 4,
      "outputs": [
        {
          "output_type": "execute_result",
          "data": {
            "text/plain": [
              "<function matplotlib.pyplot.show(close=None, block=None)>"
            ]
          },
          "metadata": {},
          "execution_count": 4
        },
        {
          "output_type": "display_data",
          "data": {
            "text/plain": [
              "<Figure size 640x480 with 1 Axes>"
            ],
            "image/png": "[encoded data removed]"
          },
          "metadata": {}
        }
      ]
    }
  ]
}